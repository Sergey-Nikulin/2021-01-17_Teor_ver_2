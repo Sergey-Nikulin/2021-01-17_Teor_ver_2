{
 "cells": [
  {
   "cell_type": "markdown",
   "metadata": {
    "id": "SEdVAbjPgX8D"
   },
   "source": [
    "# Домашнее задание \"Теория вероятности. Непрерывные Случайные Величины\"."
   ]
  },
  {
   "cell_type": "markdown",
   "metadata": {
    "id": "Qjivof7Qgd3B"
   },
   "source": [
    "## Уровень 0:"
   ]
  },
  {
   "cell_type": "markdown",
   "metadata": {
    "id": "trb7_Xw0gUED"
   },
   "source": [
    "- Задание 1:\n"
   ]
  },
  {
   "cell_type": "markdown",
   "metadata": {
    "id": "6ot79sTTgUG-"
   },
   "source": [
    "Получить интуицию, на что влияют параметры распределений. Построить по 5 функций плотностей с разными параметрами для каждого распределения: нормальное, экспоненциальное, Стьюдента на одном графике.\n"
   ]
  },
  {
   "cell_type": "code",
   "execution_count": 6,
   "metadata": {},
   "outputs": [],
   "source": [
    "import pandas as pd\n",
    "import numpy as np\n",
    "import matplotlib.pyplot as plt\n",
    "import scipy.stats as sts\n",
    "\n",
    "%matplotlib inline"
   ]
  },
  {
   "cell_type": "code",
   "execution_count": 7,
   "metadata": {},
   "outputs": [
    {
     "data": {
      "text/plain": [
       "array([ 0.66595669,  0.45901728,  0.85608811, -0.3843075 ,  0.39502962,\n",
       "        0.9261743 ,  0.58084809,  0.81269132,  0.60290238,  0.03102156])"
      ]
     },
     "execution_count": 7,
     "metadata": {},
     "output_type": "execute_result"
    }
   ],
   "source": [
    "mu = 0.3\n",
    "sigma = 0.4\n",
    "\n",
    "# зададим нормально распределенную случайную величину\n",
    "norm_rv = sts.norm(loc=mu, scale=sigma)\n",
    "\n",
    "# сгенерируем 10 значений\n",
    "norm_rv.rvs(size=10)"
   ]
  },
  {
   "cell_type": "code",
   "execution_count": 8,
   "metadata": {},
   "outputs": [
    {
     "data": {
      "text/plain": [
       "array([0.72848433, 1.15269472, 1.17507961, 1.19792965, 0.6542042 ,\n",
       "       0.79494323, 1.21057919, 0.94872767, 1.44102472, 1.32398146])"
      ]
     },
     "execution_count": 8,
     "metadata": {},
     "output_type": "execute_result"
    }
   ],
   "source": [
    "mu = 1.0\n",
    "sigma = 0.3\n",
    "\n",
    "# зададим нормально распределенную случайную величину\n",
    "norm_rv_1 = sts.norm(loc=mu, scale=sigma)\n",
    "\n",
    "# сгенерируем 10 значений\n",
    "norm_rv_1.rvs(size=10)"
   ]
  },
  {
   "cell_type": "code",
   "execution_count": 9,
   "metadata": {},
   "outputs": [
    {
     "data": {
      "text/plain": [
       "array([1.40325617, 1.25856801, 1.82282731, 1.57245163, 1.63330646,\n",
       "       1.576741  , 1.63601087, 1.95850617, 1.27984561, 1.41866085])"
      ]
     },
     "execution_count": 9,
     "metadata": {},
     "output_type": "execute_result"
    }
   ],
   "source": [
    "mu = 1.5\n",
    "sigma = 0.4\n",
    "\n",
    "# зададим нормально распределенную случайную величину\n",
    "norm_rv_2 = sts.norm(loc=mu, scale=sigma)\n",
    "\n",
    "# сгенерируем 10 значений\n",
    "norm_rv_2.rvs(size=10)"
   ]
  },
  {
   "cell_type": "code",
   "execution_count": 10,
   "metadata": {},
   "outputs": [
    {
     "data": {
      "text/plain": [
       "array([0.54720322, 1.1227838 , 0.82338973, 0.34831019, 0.54216701,\n",
       "       1.33030701, 1.32717392, 1.06959794, 0.90403218, 1.43953433])"
      ]
     },
     "execution_count": 10,
     "metadata": {},
     "output_type": "execute_result"
    }
   ],
   "source": [
    "mu = 0.9\n",
    "sigma = 0.45\n",
    "\n",
    "# зададим нормально распределенную случайную величину\n",
    "norm_rv_3 = sts.norm(loc=mu, scale=sigma)\n",
    "\n",
    "# сгенерируем 10 значений\n",
    "norm_rv_3.rvs(size=10)"
   ]
  },
  {
   "cell_type": "code",
   "execution_count": 11,
   "metadata": {},
   "outputs": [
    {
     "data": {
      "text/plain": [
       "array([2.29260085, 1.85644608, 2.53166112, 2.50296943, 2.14361331,\n",
       "       2.3387797 , 2.08821734, 2.47904655, 2.23855871, 2.38461339])"
      ]
     },
     "execution_count": 11,
     "metadata": {},
     "output_type": "execute_result"
    }
   ],
   "source": [
    "mu = 2.3\n",
    "sigma = 0.2\n",
    "\n",
    "# зададим нормально распределенную случайную величину\n",
    "norm_rv_4 = sts.norm(loc=mu, scale=sigma)\n",
    "\n",
    "# сгенерируем 10 значений\n",
    "norm_rv_4.rvs(size=10)"
   ]
  },
  {
   "cell_type": "code",
   "execution_count": null,
   "metadata": {},
   "outputs": [],
   "source": []
  },
  {
   "cell_type": "markdown",
   "metadata": {},
   "source": [
    "### Нормальное распределение"
   ]
  },
  {
   "cell_type": "code",
   "execution_count": 18,
   "metadata": {},
   "outputs": [
    {
     "data": {
      "image/png": "[encoded data removed]",
      "text/plain": [
       "<Figure size 432x288 with 1 Axes>"
      ]
     },
     "metadata": {
      "needs_background": "light"
     },
     "output_type": "display_data"
    }
   ],
   "source": [
    "x = np.linspace(0,5,100)\n",
    "\n",
    "pdf = norm_rv.pdf(x)\n",
    "pdf_1 = norm_rv_1.pdf(x)\n",
    "pdf_2 = norm_rv_2.pdf(x)\n",
    "pdf_3 = norm_rv_3.pdf(x)\n",
    "pdf_4 = norm_rv_4.pdf(x)\n",
    "\n",
    "plt.plot(x, pdf) \n",
    "plt.plot(x_1, pdf_1)\n",
    "plt.plot(x_2, pdf_2)\n",
    "plt.plot(x_3, pdf_3)\n",
    "plt.plot(x_4, pdf_4)\n",
    "\n",
    "plt.ylabel('$f(x)$')\n",
    "plt.xlabel('$x$')\n",
    "plt.show()\n"
   ]
  },
  {
   "cell_type": "markdown",
   "metadata": {},
   "source": [
    "### Равномерное распределение на отрезке"
   ]
  },
  {
   "cell_type": "code",
   "execution_count": 13,
   "metadata": {},
   "outputs": [
    {
     "data": {
      "text/plain": [
       "array([3.27638893, 3.61169038, 2.54406215, 3.26154437, 1.66260117,\n",
       "       2.24103651, 2.34662759, 1.00769641, 2.78645315, 3.8479838 ])"
      ]
     },
     "execution_count": 13,
     "metadata": {},
     "output_type": "execute_result"
    }
   ],
   "source": [
    "a = 1\n",
    "b = 4\n",
    "\n",
    "# обратите внимание, что в этой функции задается левая граница и масштаб, а не левая и правая границы:\n",
    "uniform_rv = sts.uniform(a, b-a)\n",
    "\n",
    "uniform_rv.rvs(10)"
   ]
  },
  {
   "cell_type": "code",
   "execution_count": 26,
   "metadata": {},
   "outputs": [
    {
     "data": {
      "image/png": "[encoded data removed]",
      "text/plain": [
       "<Figure size 432x288 with 1 Axes>"
      ]
     },
     "metadata": {
      "needs_background": "light"
     },
     "output_type": "display_data"
    }
   ],
   "source": [
    "\n",
    "uniform_rv = sts.uniform(1, 4-1)\n",
    "uniform_rv_1 = sts.uniform(1.3, 4-1.3)\n",
    "uniform_rv_2 = sts.uniform(1.6, 4-1.6)\n",
    "uniform_rv_3 = sts.uniform(2, 4-2)\n",
    "uniform_rv_4 = sts.uniform(2.3, 4-2.3)\n",
    "\n",
    "\n",
    "pdf_11 = uniform_rv.pdf(x)\n",
    "pdf_12 = uniform_rv_1.pdf(x)\n",
    "pdf_13 = uniform_rv_2.pdf(x)\n",
    "pdf_14 = uniform_rv_3.pdf(x)\n",
    "pdf_15 = uniform_rv_4.pdf(x)\n",
    "\n",
    "plt.plot(x, pdf_11)\n",
    "plt.plot(x, pdf_12)\n",
    "plt.plot(x, pdf_13)\n",
    "plt.plot(x, pdf_14)\n",
    "plt.plot(x, pdf_15)\n",
    "\n",
    "plt.ylabel('$f(x)$')\n",
    "plt.xlabel('$x$')\n",
    "plt.show()"
   ]
  },
  {
   "cell_type": "markdown",
   "metadata": {},
   "source": [
    "### Экспоненциальное распредление"
   ]
  },
  {
   "cell_type": "code",
   "execution_count": 55,
   "metadata": {},
   "outputs": [
    {
     "data": {
      "image/png": "[encoded data removed]",
      "text/plain": [
       "<Figure size 432x288 with 1 Axes>"
      ]
     },
     "metadata": {
      "needs_background": "light"
     },
     "output_type": "display_data"
    }
   ],
   "source": [
    "expon_rv = sts.expon(0.1)\n",
    "expon_rv_1 = sts.expon(0.3)\n",
    "expon_rv_2 = sts.expon(0.5)\n",
    "expon_rv_3 = sts.expon(0.7)\n",
    "expon_rv_4 = sts.expon(0.9)\n",
    "\n",
    "cdf_ = expon_rv.cdf(x)\n",
    "cdf_1_ = expon_rv_1.cdf(x)\n",
    "cdf_2_ = expon_rv_2.cdf(x)\n",
    "cdf_3_ = expon_rv_3.cdf(x)\n",
    "cdf_4_ = expon_rv_4.cdf(x)\n",
    "\n",
    "plt.plot(x, cdf_)\n",
    "plt.plot(x, cdf_1_)\n",
    "plt.plot(x, cdf_2_)\n",
    "plt.plot(x, cdf_3_)\n",
    "plt.plot(x, cdf_4_)\n",
    "\n",
    "plt.ylabel('$F(x)$')\n",
    "plt.xlabel('$x$')\n",
    "plt.show()"
   ]
  },
  {
   "cell_type": "markdown",
   "metadata": {},
   "source": [
    "### Распределение Стьюдента"
   ]
  },
  {
   "cell_type": "code",
   "execution_count": 77,
   "metadata": {},
   "outputs": [
    {
     "data": {
      "image/png": "[encoded data removed]",
      "text/plain": [
       "<Figure size 432x288 with 1 Axes>"
      ]
     },
     "metadata": {
      "needs_background": "light"
     },
     "output_type": "display_data"
    }
   ],
   "source": [
    "t_rv_1 = sts.t(1)\n",
    "t_rv_2 = sts.t(100)\n",
    "t_rv_3 = sts.t(5000)\n",
    "t_rv_4 = sts.t(7000)\n",
    "t_rv_5 = sts.t(100000)\n",
    "\n",
    "x = np.linspace(-5,5,100)\n",
    "\n",
    "cd_f = t_rv_1.cdf(x)\n",
    "cd_f1 = t_rv_2.cdf(x)\n",
    "cd_f2 = t_rv_3.cdf(x)\n",
    "cd_f3 = t_rv_4.cdf(x)\n",
    "cd_f4 = t_rv_5.cdf(x)\n",
    "\n",
    "plt.plot(x, cd_f)\n",
    "plt.plot(x, cd_f1)\n",
    "plt.plot(x, cd_f2)\n",
    "plt.plot(x, cd_f3)\n",
    "plt.plot(x, cd_f4)\n",
    "\n",
    "plt.ylabel('$F(x)$')\n",
    "plt.xlabel('$x$')\n",
    "plt.show()"
   ]
  },
  {
   "cell_type": "code",
   "execution_count": null,
   "metadata": {},
   "outputs": [],
   "source": []
  },
  {
   "cell_type": "code",
   "execution_count": null,
   "metadata": {},
   "outputs": [],
   "source": []
  },
  {
   "cell_type": "code",
   "execution_count": null,
   "metadata": {},
   "outputs": [],
   "source": []
  },
  {
   "cell_type": "markdown",
   "metadata": {
    "id": "Y_VK7nODgjew"
   },
   "source": [
    "## Уровень 1:"
   ]
  },
  {
   "cell_type": "markdown",
   "metadata": {
    "id": "bERZ4fYMgjg1"
   },
   "source": [
    "- Задание 2"
   ]
  },
  {
   "cell_type": "markdown",
   "metadata": {
    "id": "MIqTa8B0gji6"
   },
   "source": [
    "Непрерывная случайная величина задана плотностью распределения:$$ f(\\xi) = C, \\xi \\in [0;5];f(\\xi) = 0, \\xi \\notin [0;5]$$Найдите C, математическое ожидание $\\xi$ а также вероятность попадания  в отрезок $[3.5;7]$, т.е. P(3.5 &lt; $\\xi$ &lt; 7)."
   ]
  },
  {
   "cell_type": "markdown",
   "metadata": {
    "id": "8h9Agrz6gjkn"
   },
   "source": [
    "- Задание 3\n"
   ]
  },
  {
   "cell_type": "markdown",
   "metadata": {
    "id": "nLmtrsxkgUJQ"
   },
   "source": [
    "Известно, что светофор горит 54 секунды красным, 4 секунды жёлтым и 28 секунд зелёным. Посчитайте, какое количество информации несёт сообщение о цвете светофора в текущий момент. А что будет в случае 28, 28 и 28 секунд для каждого цвета?"
   ]
  }
 ],
 "metadata": {
  "colab": {
   "collapsed_sections": [],
   "name": "HW_8",
   "provenance": []
  },
  "kernelspec": {
   "display_name": "Python 3",
   "language": "python",
   "name": "python3"
  },
  "language_info": {
   "codemirror_mode": {
    "name": "ipython",
    "version": 3
   },
   "file_extension": ".py",
   "mimetype": "text/x-python",
   "name": "python",
   "nbconvert_exporter": "python",
   "pygments_lexer": "ipython3",
   "version": "3.7.6"
  }
 },
 "nbformat": 4,
 "nbformat_minor": 1
}
